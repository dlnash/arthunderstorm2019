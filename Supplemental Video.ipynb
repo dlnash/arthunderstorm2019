{
 "cells": [
  {
   "cell_type": "markdown",
   "metadata": {},
   "source": [
    "**Load python libraries**"
   ]
  },
  {
   "cell_type": "code",
   "execution_count": null,
   "metadata": {},
   "outputs": [],
   "source": [
    "%matplotlib inline\n",
    "import boto3\n",
    "import botocore\n",
    "import datetime\n",
    "import matplotlib.pyplot as plt\n",
    "import os.path\n",
    "import xarray as xr\n",
    "import numpy as np\n",
    "import requests\n",
    "import netCDF4\n",
    "import cartopy.crs as ccrs\n",
    "import cartopy.feature as cfeature\n",
    "from cartopy.mpl.gridliner import LONGITUDE_FORMATTER, LATITUDE_FORMATTER\n",
    "import matplotlib.ticker as mticker\n",
    "from IPython.display import Image, display\n",
    "from glob import glob\n",
    "from modules.GOESR_functions import goes_lat_lon_reproj, get_s3_keys\n",
    "from modules.plotter import loadCPT\n",
    "\n",
    "import matplotlib\n",
    "matplotlib.use(\"Agg\")\n",
    "from matplotlib import colors as c\n",
    "import matplotlib.animation as animation"
   ]
  },
  {
   "cell_type": "code",
   "execution_count": null,
   "metadata": {},
   "outputs": [],
   "source": [
    "filename_pattern = '/home/sbarc/students/nash/data/GOES17_ABI_L2_CMI13/OR_ABI*.nc'\n",
    "\n",
    "GOES_files = glob(filename_pattern) # search files \n",
    "GOES_files.sort()\n",
    "DS = xr.open_mfdataset(GOES_files, concat_dim='t')\n",
    "long_name = DS.CMI.long_name\n",
    "lats, lons = goes_lat_lon_reproj(DS)\n",
    "\n",
    "# put reprojected GOES HT data into new dataset\n",
    "DS_goes = xr.Dataset({'CMI': (['time', 'y', 'x'], DS.CMI.values)},\n",
    "                     coords={'time': DS.t.values,\n",
    "                            'lat': (['y', 'x'], lats),\n",
    "                            'lon': (['y', 'x'], lons)})\n",
    "DS_goes"
   ]
  },
  {
   "cell_type": "code",
   "execution_count": null,
   "metadata": {},
   "outputs": [],
   "source": [
    "def drawmap(ax, x, y, VO, cmap, title):\n",
    "\n",
    "    datacrs = ccrs.PlateCarree()  ## the projection the data is in\n",
    "    mapcrs = ccrs.PlateCarree() ## the projection you want your map displayed in\n",
    "    ax = fig.add_subplot(1,1,1, projection=mapcrs)\n",
    "    ax.set_title(title, fontsize=14)\n",
    "    ax.set_extent(ext, crs=mapcrs)\n",
    "    # Add Border Features\n",
    "    coast = ax.coastlines(linewidths=1.0, resolution='10m')\n",
    "    ax.add_feature(states_provinces, edgecolor='k')\n",
    "    ax.add_feature(cfeature.BORDERS)\n",
    "    # Add grid lines\n",
    "    gl = ax.gridlines(crs=datacrs, draw_labels=True,\n",
    "                      linewidth=.5, color='black', alpha=0.5, linestyle='--')\n",
    "    gl.xlocator = mticker.FixedLocator(np.arange(-140., -110., 4))\n",
    "    gl.ylocator = mticker.FixedLocator(np.arange(24, 44, 2))\n",
    "    gl.xformatter = LONGITUDE_FORMATTER\n",
    "    gl.yformatter = LATITUDE_FORMATTER\n",
    "    gl.xlabels_top = False\n",
    "    gl.ylabels_right = False\n",
    "    # Add contour plot\n",
    "    cs = ax.pcolormesh(lons, lats, VO, transform=datacrs, cmap=cmap, vmin=-103, vmax=84, zorder=1)\n",
    "    return cs\n",
    "    \n",
    "def myanimate(i, ax, DS, cmap):\n",
    "    ax.clear()\n",
    "    VO = DS.CMI.values[i]- 273.15 ## Convert to Celsius\n",
    "    x = DS.lat\n",
    "    y = DS.lon\n",
    "    title = 'GOES-17 {0} at {1}'.format(long_name, DS_goes.time.values[i])\n",
    "    new_contour = drawmap(ax,x,y,VO,cmap, title) \n",
    "    return new_contour"
   ]
  },
  {
   "cell_type": "code",
   "execution_count": null,
   "metadata": {},
   "outputs": [],
   "source": [
    "lats = DS_goes.lat\n",
    "lons = DS_goes.lon\n",
    "VO = DS_goes.CMI.values - 273.15 ## Convert to Celsius\n"
   ]
  },
  {
   "cell_type": "code",
   "execution_count": null,
   "metadata": {},
   "outputs": [],
   "source": [
    "# band_info = '(Band ' + str(DS.band_id.values[0]) + ', ' \\\n",
    "# + str(DS.band_wavelength.values[0]) + DS.band_wavelength.units + ')'\n",
    "# title = 'GOES-17 {0} {1} on {2}'.format(DS.CMI.long_name, band_info, DS.time_coverage_end)\n",
    "\n",
    "title = 'GOES-17 {0} at {1}'.format(long_name, DS_goes.time.values[0])\n",
    "FFMpegWriter = animation.writers['ffmpeg']\n",
    "metadata = dict(title=title,\n",
    "                comment='Movie for GOES-17 Cloud Brightness Temp starting at 4 March 2019 18 UTC')\n",
    "writer = FFMpegWriter(fps=20, metadata=metadata)\n",
    "\n",
    "datacrs = ccrs.PlateCarree()  ## the projection the data is in\n",
    "mapcrs = ccrs.PlateCarree() ## the projection you want your map displayed in\n",
    "ext = [-115.0, -135.0, 25.0, 40.0]\n",
    "\n",
    "# Import cmap from CPT\n",
    "cmap = loadCPT('/home/sbarc/students/nash/data/Colortables/IR4AVHRR6.cpt')\n",
    "\n",
    "# Create a feature for States/Admin 1 regions at 1:50m from Natural Earth\n",
    "states_provinces = cfeature.NaturalEarthFeature(\n",
    "    category='cultural',\n",
    "    name='admin_1_states_provinces_lines',\n",
    "    scale='50m',\n",
    "    facecolor='none')\n",
    "\n",
    "fig = plt.figure(figsize=[16,12])  # a new figure window\n",
    "ax = fig.add_subplot(1,1,1, projection=mapcrs)\n",
    "ax.set_extent(ext, crs=mapcrs)\n",
    "# Add Border Features\n",
    "coast = ax.coastlines(linewidths=1.0, resolution='10m')\n",
    "ax.add_feature(states_provinces, edgecolor='k')\n",
    "ax.add_feature(cfeature.BORDERS)\n",
    "# Add grid lines\n",
    "gl = ax.gridlines(crs=datacrs, draw_labels=True,\n",
    "                  linewidth=.5, color='black', alpha=0.5, linestyle='--')\n",
    "gl.xlocator = mticker.FixedLocator(np.arange(-140., -110., 4))\n",
    "gl.ylocator = mticker.FixedLocator(np.arange(24, 44, 2))\n",
    "gl.xformatter = LONGITUDE_FORMATTER\n",
    "gl.yformatter = LATITUDE_FORMATTER\n",
    "gl.xlabels_top = False\n",
    "gl.ylabels_right = False\n",
    "first_contour = ax.pcolormesh(lons, lats, VO[0], transform=datacrs, cmap=cmap, vmin=-103, vmax=84)\n",
    "ax.set_title(title)\n",
    "\n",
    "# Add a color bar\n",
    "cbar = fig.colorbar(first_contour, orientation='vertical', cmap=cmap, shrink=0.7)\n",
    "Unit = \"Brightness Temperature ($\\mathrm{\\degree C}$)\"\n",
    "cbar.set_label(Unit, fontsize=12)\n",
    "\n",
    "ani = animation.FuncAnimation(fig, myanimate, frames=np.arange(len(DS_goes.CMI)), fargs=(ax, DS_goes, cmap), interval=50)\n",
    "ani.save(\"GOES17_CMI.mp4\")"
   ]
  },
  {
   "cell_type": "code",
   "execution_count": null,
   "metadata": {},
   "outputs": [],
   "source": [
    "len(DS_goes.CMI)"
   ]
  }
 ],
 "metadata": {
  "kernelspec": {
   "display_name": "Python 3",
   "language": "python",
   "name": "python3"
  },
  "language_info": {
   "codemirror_mode": {
    "name": "ipython",
    "version": 3
   },
   "file_extension": ".py",
   "mimetype": "text/x-python",
   "name": "python",
   "nbconvert_exporter": "python",
   "pygments_lexer": "ipython3",
   "version": "3.7.3"
  }
 },
 "nbformat": 4,
 "nbformat_minor": 2
}
