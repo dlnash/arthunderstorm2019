{
 "cells": [
  {
   "cell_type": "code",
   "execution_count": 1,
   "metadata": {},
   "outputs": [],
   "source": [
    "import pandas as pd\n",
    "import seaborn as sns\n",
    "import matplotlib.pyplot as plt\n",
    "import cartopy.crs as ccrs\n",
    "import cartopy.feature as cfeature\n",
    "from cartopy.mpl.gridliner import LONGITUDE_FORMATTER, LATITUDE_FORMATTER\n",
    "import matplotlib.ticker as mticker\n",
    "import numpy as np\n",
    "import xarray as xr\n",
    "import netCDF4\n",
    "import matplotlib.colors as mcolors\n",
    "import matplotlib.image as mpimg\n",
    "from IPython.display import Image, display\n",
    "import cartopy.io.shapereader as shpreader\n",
    "import cartopy.feature as cfeature\n",
    "from modules.plotter import make_cmap\n",
    "import matplotlib.gridspec as gridspec\n",
    "%matplotlib inline"
   ]
  },
  {
   "cell_type": "markdown",
   "metadata": {},
   "source": [
    "### GPM Precip Accumulation"
   ]
  },
  {
   "cell_type": "markdown",
   "metadata": {},
   "source": [
    "#### Import GPM Precipitation Data"
   ]
  },
  {
   "cell_type": "code",
   "execution_count": 2,
   "metadata": {},
   "outputs": [
    {
     "name": "stdout",
     "output_type": "stream",
     "text": [
      "ds size in GB 0.02\n",
      "\n"
     ]
    }
   ],
   "source": [
    "def preprocess(ds):\n",
    "    '''keep only the selected lats and lons'''\n",
    "    return ds.sel(lat=slice(32,42), lon=slice(-125,-115))\n",
    "\n",
    "filename_pattern =  '/home/sbarc/students/nash/data/GPM/imerg_2March19/3B*' \n",
    "ds = xr.open_mfdataset(filename_pattern, engine='netcdf4', concat_dim='time', group='Grid',\n",
    "                      preprocess=preprocess)\n",
    "print('ds size in GB {:0.2f}\\n'.format(ds.nbytes / 1e9))\n",
    "# ds.info()\n",
    "\n",
    "precip = ds.precipitationCal.transpose('time', 'lat', 'lon')\n",
    "precip = precip.load()\n",
    "precip_final = precip.sum('time')/2.0"
   ]
  },
  {
   "cell_type": "code",
   "execution_count": 3,
   "metadata": {},
   "outputs": [
    {
     "name": "stdout",
     "output_type": "stream",
     "text": [
      "Total accumulated in SB: [[13.915319]] mm\n",
      "Max rain rate: 2.9003837 mm/hour at 2019-03-02 07:30:00\n"
     ]
    }
   ],
   "source": [
    "## Santa Barbara Rain Information\n",
    "SB_precip = precip.sel(lat=[34.4208], lon=[-119.6982], method='nearest')\n",
    "\n",
    "# Total accumulated over SB\n",
    "SB_precip_total = SB_precip.sum('time')/2.0\n",
    "print('Total accumulated in SB:', SB_precip_total.values, 'mm')\n",
    "# Max rain rate and time\n",
    "SB_max = SB_precip.where(SB_precip==SB_precip.max(), drop=True).squeeze()\n",
    "print('Max rain rate:', SB_max.values, 'mm/hour at', SB_max.time.values)\n"
   ]
  },
  {
   "cell_type": "code",
   "execution_count": 4,
   "metadata": {},
   "outputs": [
    {
     "name": "stdout",
     "output_type": "stream",
     "text": [
      "Total accumulated at Goleta Fire Station: [[17.487797]] mm\n",
      "Max rain rate: 6.698513 mm/hour at 2019-03-02 09:30:00\n"
     ]
    }
   ],
   "source": [
    "## Goleta Fire Station Rain Information\n",
    "gfire_precip = precip.sel(lat=[34.25], lon=[-119.55], method='nearest')\n",
    "# Total accumulated over SB\n",
    "gfire_precip_total = gfire_precip.sum('time')/2.0\n",
    "print('Total accumulated at Goleta Fire Station:', gfire_precip_total.values, 'mm')\n",
    "# Max rain rate and time\n",
    "gfire_max = gfire_precip.where(gfire_precip==gfire_precip.max(), drop=True).squeeze()\n",
    "print('Max rain rate:', gfire_max.values, 'mm/hour at', gfire_max.time.values)"
   ]
  },
  {
   "cell_type": "code",
   "execution_count": null,
   "metadata": {},
   "outputs": [],
   "source": []
  }
 ],
 "metadata": {
  "kernelspec": {
   "display_name": "Python 3",
   "language": "python",
   "name": "python3"
  },
  "language_info": {
   "codemirror_mode": {
    "name": "ipython",
    "version": 3
   },
   "file_extension": ".py",
   "mimetype": "text/x-python",
   "name": "python",
   "nbconvert_exporter": "python",
   "pygments_lexer": "ipython3",
   "version": "3.7.3"
  }
 },
 "nbformat": 4,
 "nbformat_minor": 2
}
