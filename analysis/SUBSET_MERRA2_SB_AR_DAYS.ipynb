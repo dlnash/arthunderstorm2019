{
 "cells": [
  {
   "cell_type": "code",
   "execution_count": null,
   "metadata": {},
   "outputs": [],
   "source": [
    "import logging\n",
    "logging.captureWarnings(True)\n",
    "logging.getLogger('py.warnings').setLevel(logging.ERROR)\n",
    "\n",
    "import numpy as np\n",
    "import xarray as xr\n",
    "import matplotlib.pyplot as plt\n",
    "import pandas as pd\n",
    "from IPython.display import Image, display\n",
    "from dask.distributed import Client, progress\n",
    "from datetime import datetime, timedelta\n",
    "import cartopy.crs as ccrs\n",
    "from cartopy.mpl.gridliner import LONGITUDE_FORMATTER, LATITUDE_FORMATTER\n",
    "import matplotlib.ticker as mticker\n",
    "import matplotlib.path as mpath\n",
    "import matplotlib.patheffects as PathEffects\n",
    "from scipy import stats\n",
    "import scipy\n",
    "import numpy.ma as ma\n",
    "from mpl_toolkits.axes_grid1 import make_axes_locatable\n",
    "from mpl_toolkits.axes_grid1 import ImageGrid"
   ]
  },
  {
   "cell_type": "markdown",
   "metadata": {},
   "source": [
    "### Get list of days that AR made landfall in SB (lat=34.5, lon=-119.375)"
   ]
  },
  {
   "cell_type": "code",
   "execution_count": null,
   "metadata": {},
   "outputs": [],
   "source": [
    "latitude=34.5\n",
    "longitude=359.375-119.375\n",
    "\n",
    "filename =  '../data/ar_catalog/globalARcatalog_MERRA2_1980-2017_v3.0.nc'\n",
    "ds = xr.open_dataset(filename, engine='netcdf4')\n",
    "ds = ds.sel(lat=latitude, lon=longitude)\n",
    "ds = ds.squeeze()\n",
    "print('ds size in GB {:0.2f}\\n'.format(ds.nbytes / 1e9))\n",
    "ds.info()"
   ]
  },
  {
   "cell_type": "code",
   "execution_count": null,
   "metadata": {},
   "outputs": [],
   "source": [
    "da = ds.shape.dropna(dim='time') ## drop the times where there is no AR present\n",
    "da['time'] = da.indexes['time'].normalize() ## normalize the time index to get list of days\n",
    "idx = np.unique(da['time']) ## list of days where AR is present in loc\n",
    "times_list = pd.DatetimeIndex(idx) ## create a pandas datetime index for easy time use\n",
    "day_list = pd.to_datetime(idx) + timedelta(hours=9)\n",
    "day_list"
   ]
  },
  {
   "cell_type": "code",
   "execution_count": null,
   "metadata": {},
   "outputs": [],
   "source": [
    "## Get only March AR days\n",
    "march_ar = times_list.month ==3\n",
    "march_ar = times_list[march_ar]\n",
    "march_ar"
   ]
  },
  {
   "cell_type": "code",
   "execution_count": null,
   "metadata": {},
   "outputs": [],
   "source": [
    "## generate list of times where the day is 1 - for loading the datasets\n",
    "days = np.ones(len(times_list))\n",
    "yearmonth_df = pd.DataFrame({'year': times_list.year, 'month': times_list.month,\n",
    "                             'day': days})\n",
    "\n",
    "yearmonth_list = pd.to_datetime(yearmonth_df)\n",
    "print(len(yearmonth_list))\n",
    "print(len(yearmonth_list.unique()))\n",
    "yearmonth_list = pd.to_datetime(yearmonth_list.unique())\n",
    "yearmonth_list"
   ]
  },
  {
   "cell_type": "markdown",
   "metadata": {},
   "source": [
    "### Load only AR days of MERRA2 Data for:\n",
    "- IVT (U, V, Q 1000-300 hPa)\n",
    "- 0 C isotherm (T, H )"
   ]
  },
  {
   "cell_type": "code",
   "execution_count": null,
   "metadata": {},
   "outputs": [],
   "source": [
    "# client = Client(processes=True, n_workers=3)\n",
    "# client"
   ]
  },
  {
   "cell_type": "code",
   "execution_count": null,
   "metadata": {},
   "outputs": [],
   "source": [
    "times_list = yearmonth_list # all AR days in SB\n",
    "# times_list = march_ar # AR days in March\n",
    "## create explicit list of files because they are saved as monthly files\n",
    "\n",
    "yearmonth = []\n",
    "file_list = []\n",
    "\n",
    "for t in np.arange(len(times_list)):      \n",
    "    y = str(times_list[t].year)\n",
    "    if times_list[t].month < 10:\n",
    "        month = '0' + str(times_list[t].month)\n",
    "    else:\n",
    "        month = str(times_list[t].month)\n",
    "\n",
    "    yearmonth.append(y + month)\n",
    "     \n",
    "    file_list.append('../data/M2I6NPANA.5.12.4/global_daily_concat/' +  'out.MERRA2.inst6_3d_ana_Np.' + yearmonth[t] +'.nc')"
   ]
  },
  {
   "cell_type": "code",
   "execution_count": null,
   "metadata": {},
   "outputs": [],
   "source": [
    "## import MERRA2 0*C isotherm data (T, H) only for AR days\n",
    "def preprocess(ds):\n",
    "    '''keep only the selected location and variables'''\n",
    "    unused_variables = ['U', 'V', 'QV', 'SLP', 'O3', 'PS']\n",
    "    ds = ds.drop(unused_variables)\n",
    "    return ds.sel(lat=slice(30, 40), lon=slice(-125.0, -115.0), bnds=1, lev=slice(1000.0, 200.0))\n",
    "\n",
    "ds = xr.open_mfdataset(file_list,\n",
    "                       engine='netcdf4', concat_dim='time', autoclose=True, preprocess=preprocess)\n",
    "\n",
    "print('ds size in GB {:0.2f}\\n'.format(ds.nbytes / 1e9))\n",
    "ds"
   ]
  },
  {
   "cell_type": "code",
   "execution_count": null,
   "metadata": {},
   "outputs": [],
   "source": [
    "ds = ds.load()"
   ]
  },
  {
   "cell_type": "code",
   "execution_count": null,
   "metadata": {},
   "outputs": [],
   "source": [
    "## Select specific days from ds\n",
    "ds = ds.sel(time=day_list)\n",
    "print('ds size in GB {:0.2f}\\n'.format(ds.nbytes / 1e9))"
   ]
  },
  {
   "cell_type": "code",
   "execution_count": null,
   "metadata": {},
   "outputs": [],
   "source": [
    "save_path = '../data/MERRA-2/SB_AR_0_degree_isotherm.nc'\n",
    "ds.to_netcdf(path=save_path, mode = 'w', format='NETCDF4')"
   ]
  },
  {
   "cell_type": "code",
   "execution_count": null,
   "metadata": {},
   "outputs": [],
   "source": [
    "## import MERRA2 IVT vertical level data (U, V, QV) only for AR days\n",
    "def preprocess(ds):\n",
    "    '''keep only the selected location and variables'''\n",
    "    unused_variables = ['T', 'H', 'SLP', 'O3', 'PS']\n",
    "    ds = ds.drop(unused_variables)\n",
    "    return ds.sel(lat=34.5, lon=-119.375, bnds=1, lev=slice(1000.0, 300.0))\n",
    "\n",
    "ds = xr.open_mfdataset(file_list,\n",
    "                       engine='netcdf4', concat_dim='time', autoclose=True, preprocess=preprocess)\n",
    "\n",
    "print('ds size in GB {:0.2f}\\n'.format(ds.nbytes / 1e9))\n",
    "ds.info()"
   ]
  },
  {
   "cell_type": "code",
   "execution_count": null,
   "metadata": {},
   "outputs": [],
   "source": [
    "save_path = '../data/MERRA-2/SB_march_AR_vertical_vapor_flux.nc'\n",
    "ds.to_netcdf(path=save_path, mode = 'w', format='NETCDF4')"
   ]
  },
  {
   "cell_type": "code",
   "execution_count": null,
   "metadata": {},
   "outputs": [],
   "source": []
  }
 ],
 "metadata": {
  "kernelspec": {
   "display_name": "Python 3",
   "language": "python",
   "name": "python3"
  },
  "language_info": {
   "codemirror_mode": {
    "name": "ipython",
    "version": 3
   },
   "file_extension": ".py",
   "mimetype": "text/x-python",
   "name": "python",
   "nbconvert_exporter": "python",
   "pygments_lexer": "ipython3",
   "version": "3.6.8"
  }
 },
 "nbformat": 4,
 "nbformat_minor": 4
}
