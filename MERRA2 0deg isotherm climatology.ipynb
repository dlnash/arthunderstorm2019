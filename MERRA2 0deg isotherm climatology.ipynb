{
 "cells": [
  {
   "cell_type": "markdown",
   "metadata": {},
   "source": [
    "**Load python libraries**"
   ]
  },
  {
   "cell_type": "code",
   "execution_count": 1,
   "metadata": {},
   "outputs": [],
   "source": [
    "%matplotlib inline\n",
    "import datetime\n",
    "import matplotlib.pyplot as plt\n",
    "import os.path\n",
    "import xarray as xr\n",
    "import pandas as pd\n",
    "import numpy as np\n",
    "import requests\n",
    "import netCDF4\n",
    "import cartopy.crs as ccrs\n",
    "import cartopy.feature as cfeature\n",
    "from cartopy.mpl.gridliner import LONGITUDE_FORMATTER, LATITUDE_FORMATTER\n",
    "import matplotlib.ticker as mticker\n",
    "from IPython.display import Image, display\n",
    "from dask.distributed import Client, progress\n",
    "from glob import glob\n",
    "import colorsys\n",
    "from matplotlib.colors import LinearSegmentedColormap # Linear interpolation for color maps\n",
    "import pylab as pl\n",
    "from shapely.geometry import Point\n",
    "from descartes import PolygonPatch\n",
    "import wrf\n",
    "from scipy import stats\n",
    "from statistics import median"
   ]
  },
  {
   "cell_type": "code",
   "execution_count": 3,
   "metadata": {},
   "outputs": [
    {
     "name": "stdout",
     "output_type": "stream",
     "text": [
      "ds size in GB 290.43\n",
      "\n",
      "xarray.Dataset {\n",
      "dimensions:\n",
      "\tlat = 361 ;\n",
      "\tlimitID = 5 ;\n",
      "\tlon = 576 ;\n",
      "\tstageID = 9 ;\n",
      "\ttime = 57584 ;\n",
      "\n",
      "variables:\n",
      "\tfloat32 shape(time, lat, lon) ;\n",
      "\t\tshape:long_name = Shape ;\n",
      "\t\tshape:units = none ;\n",
      "\tfloat64 axis(time, lat, lon) ;\n",
      "\t\taxis:long_name = Axis ;\n",
      "\t\taxis:units = none ;\n",
      "\tfloat64 tnsct(time, lat, lon) ;\n",
      "\t\ttnsct:long_name = Transect ;\n",
      "\t\ttnsct:units = none ;\n",
      "\tfloat32 lfloc(time, lat, lon) ;\n",
      "\t\tlfloc:long_name = Landfall Location ;\n",
      "\t\tlfloc:units = none ;\n",
      "\tfloat32 islnd(lat, lon) ;\n",
      "\t\tislnd:long_name = Is Land (Major Landmasses Only) ;\n",
      "\tfloat32 iscst(lat, lon) ;\n",
      "\t\tiscst:long_name = Is Coast (Major Landmasses Only; Inland Water Bodies Not Considered) ;\n",
      "\tfloat64 lon(lon) ;\n",
      "\t\tlon:units = degrees_east ;\n",
      "\tfloat64 lat(lat) ;\n",
      "\t\tlat:units = degrees_north ;\n",
      "\tfloat64 lev() ;\n",
      "\t\tlev:units = m ;\n",
      "\tdatetime64[ns] time(time) ;\n",
      "\t\ttime:ntime_written = 56980.0 ;\n",
      "\tfloat64 ens() ;\n",
      "\t\tens:axis = e ;\n",
      "\tfloat32 year(time, lon) ;\n",
      "\t\tyear:long_name = Year ;\n",
      "\t\tyear:units = none ;\n",
      "\tfloat32 month(time, lon) ;\n",
      "\t\tmonth:long_name = Month ;\n",
      "\t\tmonth:units = none ;\n",
      "\tfloat32 day(time, lon) ;\n",
      "\t\tday:long_name = Day ;\n",
      "\t\tday:units = none ;\n",
      "\tfloat32 hour(time, lon) ;\n",
      "\t\thour:long_name = Hour ;\n",
      "\t\thour:units = none ;\n",
      "\tfloat32 length(time, lon) ;\n",
      "\t\tlength:long_name = Length ;\n",
      "\t\tlength:units = km ;\n",
      "\tfloat32 width(time, lon) ;\n",
      "\t\twidth:long_name = Width ;\n",
      "\t\twidth:units = km ;\n",
      "\tfloat32 clon(time, lon) ;\n",
      "\t\tclon:long_name = Centroid Longitude ;\n",
      "\t\tclon:units = degree ;\n",
      "\tfloat32 clat(time, lon) ;\n",
      "\t\tclat:long_name = Centroid Latitude ;\n",
      "\t\tclat:units = degree ;\n",
      "\tfloat32 tlon(time, lon) ;\n",
      "\t\ttlon:long_name = Tail Longitude ;\n",
      "\t\ttlon:units = degree ;\n",
      "\tfloat32 tlat(time, lon) ;\n",
      "\t\ttlat:long_name = Tail Latitude ;\n",
      "\t\ttlat:units = degree ;\n",
      "\tfloat32 hlon(time, lon) ;\n",
      "\t\thlon:long_name = Head Longitude ;\n",
      "\t\thlon:units = degree ;\n",
      "\tfloat32 hlat(time, lon) ;\n",
      "\t\thlat:long_name = Head Latitude ;\n",
      "\t\thlat:units = degree ;\n",
      "\tfloat32 ivtx(time, lon) ;\n",
      "\t\tivtx:long_name = Mean Zonal IVT ;\n",
      "\t\tivtx:units = kg m^-1 s^-1 ;\n",
      "\tfloat32 ivty(time, lon) ;\n",
      "\t\tivty:long_name = Mean Meridional IVT ;\n",
      "\t\tivty:units = kg m^-1 s^-1 ;\n",
      "\tfloat32 ivtdir(time, lon) ;\n",
      "\t\tivtdir:long_name = Direction of Mean IVT ;\n",
      "\t\tivtdir:units = degree from north going clockwise ;\n",
      "\tfloat32 ivtdircoh(time, lon) ;\n",
      "\t\tivtdircoh:long_name = IVT Direction Coherence ;\n",
      "\t\tivtdircoh:units = none ;\n",
      "\tfloat32 width2(time, lon) ;\n",
      "\t\twidth2:long_name = Transect Width ;\n",
      "\t\twidth2:units = km ;\n",
      "\tfloat32 tivt(time, lon) ;\n",
      "\t\ttivt:long_name = Total IVT Across Transect ;\n",
      "\t\ttivt:units = 10^6 kg s^-1 ;\n",
      "\tfloat32 lflon(time, lon) ;\n",
      "\t\tlflon:long_name = Landfall Longitude ;\n",
      "\t\tlflon:units = degree ;\n",
      "\tfloat32 lflat(time, lon) ;\n",
      "\t\tlflat:long_name = Landfall Latitude ;\n",
      "\t\tlflat:units = degree ;\n",
      "\tfloat32 lfivtx(time, lon) ;\n",
      "\t\tlfivtx:long_name = Zonal IVT at Landfall Location ;\n",
      "\t\tlfivtx:units = kg m^-1 s^-1 ;\n",
      "\tfloat32 lfivty(time, lon) ;\n",
      "\t\tlfivty:long_name = Meridional IVT at Landfall Location ;\n",
      "\t\tlfivty:units = kg m^-1 s^-1 ;\n",
      "\tfloat32 lfivtdir(time, lon) ;\n",
      "\t\tlfivtdir:long_name = IVT Direction at Landfall Location ;\n",
      "\t\tlfivtdir:units = degree from north going clockwise ;\n",
      "\tfloat32 numobj(time, limitID, stageID) ;\n",
      "\t\tnumobj:long_name = Number of Objects Retained at Each Detection Stage for Each IVT Limit (Ancillary Data for Interested Users) ;\n",
      "\tfloat64 stageID(stageID) ;\n",
      "\t\tstageID:long_name = Sequential ID of Detection Stage ;\n",
      "\tfloat64 limitID(limitID) ;\n",
      "\t\tlimitID:long_name = Sequential ID of IVT Limit ;\n",
      "\n",
      "// global attributes:\n",
      "\t:title = Global Atmospheric River Database ;\n",
      "\t:version = 2019.08.08 ;\n",
      "\t:creation_date = 08-Aug-2019 12:31:33 ;\n",
      "\t:tARget_version = 1.221 ;\n",
      "\t:reference = Guan, B., and D. E. Waliser (2015), Detection of atmospheric rivers: Evaluation and application of an algorithm for global studies, J. Geophys. Res. Atmos., 120, 12514-12535, doi:10.1002/2015JD024257. ;\n",
      "}"
     ]
    }
   ],
   "source": [
    "latitude=34.5\n",
    "longitude=359.375-119.375\n",
    "\n",
    "filename =  '/home/sbarc/students/nash/data/ar_catalog/globalARcatalog_MERRA2_1980-2019_v2.0.nc'\n",
    "ds = xr.open_dataset(filename, engine='netcdf4')\n",
    "ds = ds.squeeze()\n",
    "\n",
    "ds_SB = ds.sel(lat=latitude, lon=longitude)\n",
    "ds_SB = ds_SB.squeeze()\n",
    "print('ds size in GB {:0.2f}\\n'.format(ds.nbytes / 1e9))\n",
    "ds.info()"
   ]
  },
  {
   "cell_type": "code",
   "execution_count": 4,
   "metadata": {},
   "outputs": [],
   "source": [
    "def get_ivt_direction(ds1, ds2):\n",
    "    da = ds1.shape.dropna(dim='time') ## drop the times where there is no AR present\n",
    "    idx_times = np.unique(da['time']) ## list of days where AR is present in loc\n",
    "    times_list = pd.DatetimeIndex(idx_times) ## create a pandas datetime index for easy time use\n",
    "    ds_new = ds2.sel(time=times_list) # get only AR days\n",
    "\n",
    "    ## get the ivt direction of the AR object that is over SB\n",
    "    ivtdir = []\n",
    "    idx_shape = da.values.astype(int) # get integer index values of ar object\n",
    "    for i in range(len(times_list)):\n",
    "        ivtdir.append(ds_new.ivtdir[i].isel(lon=idx_shape[i]).values)\n",
    "    ivtdir = np.asarray(ivtdir)\n",
    "    \n",
    "    return(ivtdir)"
   ]
  },
  {
   "cell_type": "code",
   "execution_count": 5,
   "metadata": {},
   "outputs": [
    {
     "name": "stdout",
     "output_type": "stream",
     "text": [
      "(3779,)\n",
      "(384,)\n"
     ]
    }
   ],
   "source": [
    "## get ivt direction for all AR events in SB\n",
    "ivtdir = get_ivt_direction(ds_SB, ds)\n",
    "print(ivtdir.shape)\n",
    "\n",
    "## get ivt direction for AR events in march only\n",
    "def is_mar(month):\n",
    "    return (month == 3)\n",
    "\n",
    "ds_march = ds_SB.sel(time=is_mar(ds['time.month']))\n",
    "ivtdir_march = get_ivt_direction(ds_march, ds)\n",
    "print(ivtdir_march.shape)"
   ]
  },
  {
   "cell_type": "code",
   "execution_count": 8,
   "metadata": {},
   "outputs": [
    {
     "name": "stdout",
     "output_type": "stream",
     "text": [
      "IVT Direction during March AR Event: 56.51005\n"
     ]
    }
   ],
   "source": [
    "## Get direction of specific event ivt direction\n",
    "ds_event = ds.sel(time='2019-03-05 12:00')\n",
    "da = ds_SB.shape.dropna(dim='time') ## drop the times where there is no AR present\n",
    "idx_event = da.sel(time= '2019-03-05 12:00')\n",
    "ivtdir_event = ds_event.ivtdir.isel(lon=idx_event.astype(int))\n",
    "print('IVT Direction during March AR Event:', ivtdir_event.values)"
   ]
  },
  {
   "cell_type": "code",
   "execution_count": 14,
   "metadata": {},
   "outputs": [
    {
     "data": {
      "image/png": "[encoded data removed]",
      "text/plain": [
       "<Figure size 432x288 with 1 Axes>"
      ]
     },
     "metadata": {
      "needs_background": "light"
     },
     "output_type": "display_data"
    }
   ],
   "source": [
    "results = [ivtdir, ivtdir_march]\n",
    "n_bins = 100\n",
    "fig, axs = plt.subplots(1, 1, tight_layout=True)\n",
    "subtitles = ['All ARs in SB', 'March ARs in SB']\n",
    "\n",
    "# We can set the number of bins with the `bins` kwarg\n",
    " \n",
    "axs.hist(results[0], bins=n_bins, facecolor='blue')\n",
    "axs.hist(results[1], bins=n_bins, facecolor='grey')\n",
    "axs.axvline(ivtdir_event.values, color='r', linestyle='-', linewidth=2)\n",
    "axs.set_xlim(0, 360)\n",
    "axs.set_xlabel('Direction of Mean IVT (degree)', fontsize=12)\n",
    "axs.set_ylabel('Frequency', fontsize=12)\n",
    "axs.title.set_text('IVT Direction for ARs in Santa Barbara')"
   ]
  },
  {
   "cell_type": "markdown",
   "metadata": {},
   "source": [
    "#### Import MERRA2 0* Isotherm Data for AR Days only"
   ]
  },
  {
   "cell_type": "code",
   "execution_count": 2,
   "metadata": {},
   "outputs": [],
   "source": [
    "filename = '/home/sbarc/students/nash/data/MERRA-2/SB_AR_0_degree_isotherm.nc'\n",
    "ds = xr.open_dataset(filename)"
   ]
  },
  {
   "cell_type": "markdown",
   "metadata": {},
   "source": [
    "Check for 0* crossings in the temperature profile between 1000 and 200 hPa.\n",
    "If single zero crossing, altitude is taken as the freezing level.\n",
    "Special case 1: No zero crossing (T < 0degC throughout column)\n",
    "Flag freezing level as missing.\n",
    "Special case 2: Multiple zero crossing due to temperature inversion\n",
    "Flag all locations, store only lowest Z0 value"
   ]
  },
  {
   "cell_type": "code",
   "execution_count": 15,
   "metadata": {},
   "outputs": [
    {
     "data": {
      "text/plain": [
       "array([[ 17.207642 ,  15.367401 ,  13.745148 ,  11.937164 ,  10.579376 ,\n",
       "          9.087982 ,   7.4539185,   5.849518 ,   4.2979126,   2.897583 ,\n",
       "          1.3445129,  -0.2447815,  -1.8721313,  -5.5278625,  -9.589111 ,\n",
       "        -13.769836 , -18.557083 , -24.119537 , -30.636566 , -38.080414 ,\n",
       "        -45.878098 , -51.612625 , -52.505768 ]], dtype=float32)"
      ]
     },
     "execution_count": 15,
     "metadata": {},
     "output_type": "execute_result"
    }
   ],
   "source": [
    "ds.T.sel(lat=30.0, lon=-125.0, time='1980-01-09').values - 273.15"
   ]
  },
  {
   "cell_type": "code",
   "execution_count": 16,
   "metadata": {},
   "outputs": [
    {
     "data": {
      "text/plain": [
       "<xarray.DataArray 'H_interp' (time: 1814, lat: 21, lon: 17)>\n",
       "array([[[2701.0605 , 2728.6125 , ..., 2932.267  , 3041.6162 ],\n",
       "        [2671.9265 , 2689.3518 , ..., 2908.5576 , 3014.3623 ],\n",
       "        ...,\n",
       "        [2017.6572 , 1992.1548 , ..., 2478.097  , 2415.031  ],\n",
       "        [1901.4426 , 1895.7856 , ..., 2493.814  , 2460.3137 ]],\n",
       "\n",
       "       [[3598.8027 , 3512.3945 , ..., 2799.9124 , 3052.0586 ],\n",
       "        [3454.891  , 3361.2385 , ..., 2770.3223 , 3056.1187 ],\n",
       "        ...,\n",
       "        [1004.77997, 1037.0061 , ..., 2245.4788 , 2296.6375 ],\n",
       "        [ 982.4503 ,  982.22235, ..., 2188.122  , 2255.6445 ]],\n",
       "\n",
       "       ...,\n",
       "\n",
       "       [[4958.35   , 4965.287  , ..., 5016.5444 , 5033.6914 ],\n",
       "        [4911.756  , 4935.4595 , ..., 5047.163  , 4993.8774 ],\n",
       "        ...,\n",
       "        [3444.9836 , 3468.0115 , ..., 3653.9617 , 3656.36   ],\n",
       "        [3384.4785 , 3432.9365 , ..., 3584.577  , 3608.571  ]],\n",
       "\n",
       "       [[4213.42   , 4239.8345 , ..., 4753.1655 , 4774.007  ],\n",
       "        [4174.8843 , 4190.6714 , ..., 4743.088  , 4728.54   ],\n",
       "        ...,\n",
       "        [1629.0555 , 1671.4318 , ..., 3363.392  , 3475.2146 ],\n",
       "        [1590.3356 , 1638.0619 , ..., 3296.5408 , 3430.4456 ]]], dtype=float32)\n",
       "Coordinates:\n",
       "  * lat      (lat) float64 30.0 30.5 31.0 31.5 32.0 ... 38.0 38.5 39.0 39.5 40.0\n",
       "  * lon      (lon) float64 -125.0 -124.4 -123.8 -123.1 ... -116.2 -115.6 -115.0\n",
       "  * time     (time) datetime64[ns] 1980-01-09T09:00:00 ... 2017-11-27T09:00:00\n",
       "    level    float64 0.0\n",
       "Attributes:\n",
       "    standard_name:   geopotential_height\n",
       "    long_name:       Geopotential height\n",
       "    units:           m\n",
       "    fmissing_value:  1000000000000000.0\n",
       "    vmax:            1000000000000000.0\n",
       "    vmin:            -1000000000000000.0\n",
       "    missing_value:   nan\n",
       "    _FillValue:      nan\n",
       "    vert_units:      None"
      ]
     },
     "execution_count": 16,
     "metadata": {},
     "output_type": "execute_result"
    }
   ],
   "source": [
    "ht = ds.H\n",
    "t = ds.T - 273.15 # convert to Kelvin\n",
    "\n",
    "interp_results = wrf.interplevel(ht, t, 0.0, missing=np.nan)\n",
    "interp_results"
   ]
  },
  {
   "cell_type": "code",
   "execution_count": 17,
   "metadata": {},
   "outputs": [
    {
     "data": {
      "text/plain": [
       "<xarray.DataArray 'lon' (lon: 17)>\n",
       "array([-125.   , -124.375, -123.75 , -123.125, -122.5  , -121.875, -121.25 ,\n",
       "       -120.625, -120.   , -119.375, -118.75 , -118.125, -117.5  , -116.875,\n",
       "       -116.25 , -115.625, -115.   ])\n",
       "Coordinates:\n",
       "  * lon      (lon) float64 -125.0 -124.4 -123.8 -123.1 ... -116.2 -115.6 -115.0\n",
       "    level    float64 0.0\n",
       "Attributes:\n",
       "    standard_name:  longitude\n",
       "    long_name:      longitude\n",
       "    units:          degrees_east\n",
       "    axis:           X"
      ]
     },
     "execution_count": 17,
     "metadata": {},
     "output_type": "execute_result"
    }
   ],
   "source": [
    "interp_results.lon"
   ]
  },
  {
   "cell_type": "code",
   "execution_count": 18,
   "metadata": {},
   "outputs": [
    {
     "data": {
      "text/plain": [
       "<xarray.DataArray 'H_interp' (time: 170)>\n",
       "array([2626.2974, 2242.571 , 1901.8168, 3068.9912, 1801.7705, 1963.5237,\n",
       "       2256.1301, 3279.135 , 3632.4856, 3127.7463, 3305.712 , 3177.5159,\n",
       "       2261.1553, 1558.5488, 2474.6123, 1409.7407, 2186.1562, 2456.855 ,\n",
       "             nan, 1966.726 , 2557.8716, 3017.712 , 3332.0159, 3466.5903,\n",
       "       1991.9781, 2266.4978, 2634.7563, 3478.7983, 3916.1326, 3326.6904,\n",
       "       3445.818 , 2698.1594, 4025.9702, 4191.3833, 2887.9407, 2146.6245,\n",
       "       1493.9425, 3568.44  , 3297.325 , 2226.287 , 3756.794 , 3287.252 ,\n",
       "       2571.888 , 2987.4297, 2202.794 , 4169.0015, 3031.9534, 3332.4927,\n",
       "       3886.8108, 4055.182 , 3676.201 , 3461.4758, 3906.9421, 3713.2336,\n",
       "       3688.1768, 3720.3264, 3173.163 , 3586.2158, 3974.251 , 2867.6494,\n",
       "       3853.3103, 3376.1506, 3351.0366, 2331.7085, 3493.985 , 2155.6086,\n",
       "       1972.2051, 2964.162 , 3421.438 , 3192.9841, 1800.5305, 1500.7511,\n",
       "       1938.0951, 1668.3403, 1650.2305, 2139.5215, 2822.3267, 2384.6125,\n",
       "       2075.8545, 2590.0195, 3504.5334, 3857.167 , 3521.1843, 3067.9893,\n",
       "       2697.3303, 1932.7135, 1796.1669, 1695.5657, 2427.799 , 2603.5276,\n",
       "       3075.4758, 3080.237 , 3215.7502, 3014.3323, 2327.459 , 4121.5205,\n",
       "       3959.8474, 3805.0146, 2465.935 , 1605.9368, 2279.7039, 2993.3674,\n",
       "       3665.9395, 2464.8389, 2806.4   , 2978.3083, 2023.3414, 2325.4868,\n",
       "       1987.3375, 2462.727 , 2241.9932, 2061.688 , 4315.1514, 3565.2354,\n",
       "       2211.4895, 3800.6946, 2953.6567, 3669.8545, 3279.5347, 4261.0957,\n",
       "       4236.097 , 3122.4177, 2547.958 , 2051.114 , 2603.8699, 2680.4563,\n",
       "       1979.1174, 2776.0671, 2846.4   , 3357.9285, 2589.2427, 3900.59  ,\n",
       "       3482.4373, 3066.63  , 2151.992 , 2833.2397, 3906.239 , 2567.4548,\n",
       "       2988.0781, 3556.7344, 3515.3164, 3696.4724, 3726.8257, 1917.2476,\n",
       "       1850.2238, 1828.944 , 1660.9447, 1995.1943, 4239.1226, 2473.9993,\n",
       "       1254.4344, 2157.7075, 2947.9917, 3426.2222, 3341.4543, 3632.9436,\n",
       "       1952.4229, 3454.91  , 3667.0752, 2613.6038, 2737.499 , 3558.343 ,\n",
       "       3136.745 , 2516.99  , 2054.4763, 3487.918 , 3199.3848, 3189.8254,\n",
       "       3266.281 , 2810.3992], dtype=float32)\n",
       "Coordinates:\n",
       "    lat      float64 34.5\n",
       "    lon      float64 -119.4\n",
       "  * time     (time) datetime64[ns] 1980-03-02T09:00:00 ... 2017-03-25T09:00:00\n",
       "    level    float64 0.0\n",
       "Attributes:\n",
       "    standard_name:   geopotential_height\n",
       "    long_name:       Geopotential height\n",
       "    units:           m\n",
       "    fmissing_value:  1000000000000000.0\n",
       "    vmax:            1000000000000000.0\n",
       "    vmin:            -1000000000000000.0\n",
       "    missing_value:   nan\n",
       "    _FillValue:      nan\n",
       "    vert_units:      None"
      ]
     },
     "execution_count": 18,
     "metadata": {},
     "output_type": "execute_result"
    }
   ],
   "source": [
    "## select SB\n",
    "latitude=34.5\n",
    "longitude=-119.375\n",
    "\n",
    "SB_results = interp_results.sel(lat=latitude, lon=longitude)\n",
    "\n",
    "## select only March events\n",
    "def is_mar(month):\n",
    "    return (month == 3)\n",
    "\n",
    "ds_march = interp_results.sel(time=is_mar(interp_results['time.month']), lat=latitude, lon=longitude)\n",
    "ds_march"
   ]
  },
  {
   "cell_type": "code",
   "execution_count": 28,
   "metadata": {},
   "outputs": [
    {
     "name": "stdout",
     "output_type": "stream",
     "text": [
      "ds size in GB 0.00\n",
      "\n",
      "[2606.4  2279.84]\n"
     ]
    }
   ],
   "source": [
    "def preprocess(ds):\n",
    "    '''keep only the selected lats and lons'''\n",
    "    return ds.sel(latitude=latitude, longitude=360.-119.5)\n",
    "\n",
    "filename_pattern =  '/home/sbarc/students/nash/data/CFSv2/netcdf_CFSv2_vertical_levels/201*'\n",
    "ds = xr.open_mfdataset(filename_pattern, engine='netcdf4', preprocess=preprocess)\n",
    "print('ds size in GB {:0.2f}\\n'.format(ds.nbytes / 1e9))\n",
    "ds = ds.sel(time=slice('2019-03-06-12', '2019-03-06-18'))\n",
    "zero_isotherm = ds.hgt_0Cisotherm\n",
    "print(zero_isotherm.values)\n",
    "zeroiso_event = np.mean(zero_isotherm.values)"
   ]
  },
  {
   "cell_type": "code",
   "execution_count": 51,
   "metadata": {},
   "outputs": [
    {
     "name": "stdout",
     "output_type": "stream",
     "text": [
      "3530.9973\n",
      "2882.1235\n"
     ]
    }
   ],
   "source": [
    "print(np.nanmean(SB_results.values))\n",
    "# SB_results.values\n",
    "print(np.nanmean(ds_march.values))"
   ]
  },
  {
   "cell_type": "code",
   "execution_count": 36,
   "metadata": {},
   "outputs": [
    {
     "data": {
      "text/plain": [
       "1814"
      ]
     },
     "execution_count": 36,
     "metadata": {},
     "output_type": "execute_result"
    }
   ],
   "source": [
    "len(SB_results)"
   ]
  },
  {
   "cell_type": "code",
   "execution_count": 53,
   "metadata": {},
   "outputs": [
    {
     "data": {
      "image/png": "[encoded data removed]",
      "text/plain": [
       "<Figure size 432x288 with 1 Axes>"
      ]
     },
     "metadata": {
      "needs_background": "light"
     },
     "output_type": "display_data"
    }
   ],
   "source": [
    "results = [SB_results.values, ds_march.values]\n",
    "n_bins = 100\n",
    "fig, axs = plt.subplots(1, 1, tight_layout=True)\n",
    "subtitles = ['All ARs in SB', 'March ARs in SB']\n",
    "\n",
    "# We can set the number of bins with the `bins` kwarg\n",
    " \n",
    "axs.hist(results[0], bins=n_bins, facecolor='blue')\n",
    "axs.hist(results[1], bins=n_bins, facecolor='grey')\n",
    "axs.axvline(zeroiso_event, color='r', linestyle='-', linewidth=2)\n",
    "axs.axvline(np.nanmean(SB_results.values), color='k', linestyle='--', linewidth=2)\n",
    "axs.axvline(np.nanmean(ds_march.values), color='grey', linestyle='--', linewidth=2)\n",
    "# axs.set_xlim(0, 360)\n",
    "axs.set_xlabel('Height of 0*C Isotherm', fontsize=12)\n",
    "axs.set_ylabel('Frequency', fontsize=12)\n",
    "axs.title.set_text('0*C Isotherm Height for ARs in Santa Barbara')"
   ]
  },
  {
   "cell_type": "code",
   "execution_count": 41,
   "metadata": {},
   "outputs": [
    {
     "name": "stdout",
     "output_type": "stream",
     "text": [
      "ds size in GB 290.43\n",
      "\n"
     ]
    },
    {
     "data": {
      "text/plain": [
       "<xarray.Dataset>\n",
       "Dimensions:    (lat: 81, limitID: 5, lon: 81, stageID: 9, time: 2188)\n",
       "Coordinates:\n",
       "  * lon        (lon) float64 200.0 200.6 201.2 201.9 ... 248.1 248.8 249.4 250.0\n",
       "  * lat        (lat) float64 20.0 20.5 21.0 21.5 22.0 ... 58.5 59.0 59.5 60.0\n",
       "    lev        float64 1e+03\n",
       "  * time       (time) datetime64[ns] 2014-10-01 ... 2017-03-31T18:00:00\n",
       "    ens        float64 1.0\n",
       "  * stageID    (stageID) float64 1.0 2.0 3.0 4.0 5.0 6.0 7.0 8.0 9.0\n",
       "  * limitID    (limitID) float64 1.0 2.0 3.0 4.0 5.0\n",
       "Data variables:\n",
       "    shape      (time, lat, lon) float32 ...\n",
       "    axis       (time, lat, lon) float64 ...\n",
       "    tnsct      (time, lat, lon) float64 ...\n",
       "    lfloc      (time, lat, lon) float32 ...\n",
       "    islnd      (lat, lon) float32 ...\n",
       "    iscst      (lat, lon) float32 ...\n",
       "    year       (time, lon) float32 ...\n",
       "    month      (time, lon) float32 ...\n",
       "    day        (time, lon) float32 ...\n",
       "    hour       (time, lon) float32 ...\n",
       "    length     (time, lon) float32 ...\n",
       "    width      (time, lon) float32 ...\n",
       "    clon       (time, lon) float32 ...\n",
       "    clat       (time, lon) float32 ...\n",
       "    tlon       (time, lon) float32 ...\n",
       "    tlat       (time, lon) float32 ...\n",
       "    hlon       (time, lon) float32 ...\n",
       "    hlat       (time, lon) float32 ...\n",
       "    ivtx       (time, lon) float32 ...\n",
       "    ivty       (time, lon) float32 ...\n",
       "    ivtdir     (time, lon) float32 ...\n",
       "    ivtdircoh  (time, lon) float32 ...\n",
       "    width2     (time, lon) float32 ...\n",
       "    tivt       (time, lon) float32 ...\n",
       "    lflon      (time, lon) float32 ...\n",
       "    lflat      (time, lon) float32 ...\n",
       "    lfivtx     (time, lon) float32 ...\n",
       "    lfivty     (time, lon) float32 ...\n",
       "    lfivtdir   (time, lon) float32 ...\n",
       "    numobj     (time, limitID, stageID) float32 ...\n",
       "Attributes:\n",
       "    title:           Global Atmospheric River Database\n",
       "    version:         2019.08.08\n",
       "    creation_date:   08-Aug-2019 12:31:33\n",
       "    tARget_version:  1.221\n",
       "    reference:       Guan, B., and D. E. Waliser (2015), Detection of atmosph..."
      ]
     },
     "execution_count": 41,
     "metadata": {},
     "output_type": "execute_result"
    }
   ],
   "source": [
    "## Compare # ARs in Cannon et al., 2017 to Guan and Waliser 2015\n",
    "latitude=34.5\n",
    "longitude=359.375-119.375\n",
    "\n",
    "filename =  '/home/sbarc/students/nash/data/ar_catalog/globalARcatalog_MERRA2_1980-2019_v2.0.nc'\n",
    "ds = xr.open_dataset(filename, engine='netcdf4')\n",
    "ds = ds.squeeze()\n",
    "\n",
    "## select only March events\n",
    "def is_ondjfm(month):\n",
    "    return (month >= 10) | (month <=3)\n",
    "\n",
    "ds_cannon = ds.sel(time=slice('2014-10-01', '2017-03-31'), lat=slice(20., 60.), lon=slice(360-160, 360-110))\n",
    "ds_cannon = ds_cannon.sel(time=is_ondjfm(ds_cannon['time.month']))\n",
    "ds_cannon = ds_cannon.squeeze()\n",
    "print('ds size in GB {:0.2f}\\n'.format(ds.nbytes / 1e9))\n",
    "ds_cannon\n"
   ]
  },
  {
   "cell_type": "code",
   "execution_count": 47,
   "metadata": {},
   "outputs": [
    {
     "data": {
      "text/plain": [
       "<xarray.DataArray 'shape' ()>\n",
       "array(79)\n",
       "Coordinates:\n",
       "    lev      float64 1e+03\n",
       "    ens      float64 1.0"
      ]
     },
     "execution_count": 47,
     "metadata": {},
     "output_type": "execute_result"
    }
   ],
   "source": [
    "da = ds_cannon.shape.count(dim='time')\n",
    "da.min()"
   ]
  },
  {
   "cell_type": "code",
   "execution_count": 46,
   "metadata": {},
   "outputs": [
    {
     "data": {
      "text/plain": [
       "<xarray.DataArray 'shape' ()>\n",
       "array(195)\n",
       "Coordinates:\n",
       "    lon      float64 240.0\n",
       "    lat      float64 34.5\n",
       "    lev      float64 1e+03\n",
       "    ens      float64 1.0"
      ]
     },
     "execution_count": 46,
     "metadata": {},
     "output_type": "execute_result"
    }
   ],
   "source": [
    "da.sel(lat=latitude, lon=longitude)"
   ]
  },
  {
   "cell_type": "code",
   "execution_count": 48,
   "metadata": {},
   "outputs": [
    {
     "data": {
      "text/plain": [
       "<xarray.DataArray 'shape' ()>\n",
       "array(455)\n",
       "Coordinates:\n",
       "    lev      float64 1e+03\n",
       "    ens      float64 1.0"
      ]
     },
     "execution_count": 48,
     "metadata": {},
     "output_type": "execute_result"
    }
   ],
   "source": [
    "da.max()"
   ]
  },
  {
   "cell_type": "code",
   "execution_count": 49,
   "metadata": {},
   "outputs": [
    {
     "name": "stdout",
     "output_type": "stream",
     "text": [
      "ds size in GB 290.43\n",
      "\n"
     ]
    },
    {
     "data": {
      "text/plain": [
       "<xarray.Dataset>\n",
       "Dimensions:    (limitID: 5, stageID: 9, time: 16672)\n",
       "Coordinates:\n",
       "    lon        float64 240.0\n",
       "    lat        float64 34.5\n",
       "    lev        float64 1e+03\n",
       "  * time       (time) datetime64[ns] 1988-11-01 ... 2011-04-30T18:00:00\n",
       "    ens        float64 1.0\n",
       "  * stageID    (stageID) float64 1.0 2.0 3.0 4.0 5.0 6.0 7.0 8.0 9.0\n",
       "  * limitID    (limitID) float64 1.0 2.0 3.0 4.0 5.0\n",
       "Data variables:\n",
       "    shape      (time) float32 ...\n",
       "    axis       (time) float64 ...\n",
       "    tnsct      (time) float64 ...\n",
       "    lfloc      (time) float32 ...\n",
       "    islnd      float32 ...\n",
       "    iscst      float32 ...\n",
       "    year       (time) float32 ...\n",
       "    month      (time) float32 ...\n",
       "    day        (time) float32 ...\n",
       "    hour       (time) float32 ...\n",
       "    length     (time) float32 ...\n",
       "    width      (time) float32 ...\n",
       "    clon       (time) float32 ...\n",
       "    clat       (time) float32 ...\n",
       "    tlon       (time) float32 ...\n",
       "    tlat       (time) float32 ...\n",
       "    hlon       (time) float32 ...\n",
       "    hlat       (time) float32 ...\n",
       "    ivtx       (time) float32 ...\n",
       "    ivty       (time) float32 ...\n",
       "    ivtdir     (time) float32 ...\n",
       "    ivtdircoh  (time) float32 ...\n",
       "    width2     (time) float32 ...\n",
       "    tivt       (time) float32 ...\n",
       "    lflon      (time) float32 ...\n",
       "    lflat      (time) float32 ...\n",
       "    lfivtx     (time) float32 ...\n",
       "    lfivty     (time) float32 ...\n",
       "    lfivtdir   (time) float32 ...\n",
       "    numobj     (time, limitID, stageID) float32 ...\n",
       "Attributes:\n",
       "    title:           Global Atmospheric River Database\n",
       "    version:         2019.08.08\n",
       "    creation_date:   08-Aug-2019 12:31:33\n",
       "    tARget_version:  1.221\n",
       "    reference:       Guan, B., and D. E. Waliser (2015), Detection of atmosph..."
      ]
     },
     "execution_count": 49,
     "metadata": {},
     "output_type": "execute_result"
    }
   ],
   "source": [
    "## select only months between november and april\n",
    "def is_ndjfma(month):\n",
    "    return (month >= 11) | (month <=4)\n",
    "\n",
    "ds_rutz = ds.sel(time=slice('1988-11-01', '2011-04-30'), lat=latitude, lon=longitude)\n",
    "ds_rutz = ds_rutz.sel(time=is_ndjfma(ds_rutz['time.month']))\n",
    "print('ds size in GB {:0.2f}\\n'.format(ds.nbytes / 1e9))\n",
    "ds_rutz"
   ]
  },
  {
   "cell_type": "code",
   "execution_count": 50,
   "metadata": {},
   "outputs": [
    {
     "data": {
      "text/plain": [
       "<xarray.DataArray 'shape' ()>\n",
       "array(1389)\n",
       "Coordinates:\n",
       "    lon      float64 240.0\n",
       "    lat      float64 34.5\n",
       "    lev      float64 1e+03\n",
       "    ens      float64 1.0"
      ]
     },
     "execution_count": 50,
     "metadata": {},
     "output_type": "execute_result"
    }
   ],
   "source": [
    "da_rutz = ds_rutz.shape.count(dim='time')\n",
    "da_rutz"
   ]
  },
  {
   "cell_type": "code",
   "execution_count": null,
   "metadata": {},
   "outputs": [],
   "source": []
  }
 ],
 "metadata": {
  "kernelspec": {
   "display_name": "Python 3",
   "language": "python",
   "name": "python3"
  },
  "language_info": {
   "codemirror_mode": {
    "name": "ipython",
    "version": 3
   },
   "file_extension": ".py",
   "mimetype": "text/x-python",
   "name": "python",
   "nbconvert_exporter": "python",
   "pygments_lexer": "ipython3",
   "version": "3.7.3"
  }
 },
 "nbformat": 4,
 "nbformat_minor": 2
}
